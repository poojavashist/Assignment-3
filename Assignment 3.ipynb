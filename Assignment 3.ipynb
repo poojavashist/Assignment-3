{
 "cells": [
  {
   "cell_type": "code",
   "execution_count": 1,
   "metadata": {},
   "outputs": [
    {
     "name": "stdout",
     "output_type": "stream",
     "text": [
      "Input:\n",
      "Please insert the number :10\n",
      "Output:\n",
      "List of First n Natural numbers are: [1, 2, 3, 4, 5, 6, 7, 8, 9, 10]\n",
      "Sum of List elements are : 55\n"
     ]
    }
   ],
   "source": [
    "# Assignmen3\n",
    "#Question_1.1 Write a Python Program to implement your own myreduce() function which works exactly like Python's built-in function reduce()\n",
    "# This function will return the Sum of First n Natural numbers , Ask user for Number.\n",
    " \n",
    "def myreduce(num):\n",
    "    numlist=list(range(1,number+1))\n",
    "    sumofelements=0\n",
    "    \n",
    "    for i in numlist:\n",
    "        sumofelements+=i\n",
    "        \n",
    "    return numlist,sumofelements\n",
    "#Input any number\n",
    "print(\"Input:\")\n",
    "number=int(input(\"Please insert the number :\"))\n",
    "#Function Execution\n",
    "output_value=myreduce(number)\n",
    "print(\"Output:\")\n",
    "print(\"List of First n Natural numbers are:\",output_value[0])\n",
    "print(\"Sum of List elements are :\",output_value[1])\n"
   ]
  },
  {
   "cell_type": "code",
   "execution_count": 2,
   "metadata": {},
   "outputs": [
    {
     "name": "stdout",
     "output_type": "stream",
     "text": [
      "Input:\n",
      "Please insert the number :10\n",
      "Output:\n",
      "List of First n Natural numbers are: [1, 2, 3, 4, 5, 6, 7, 8, 9, 10]\n",
      "Sum of List elements are : 55\n"
     ]
    }
   ],
   "source": [
    "# Same Solution can be approached by Built-in reduce() function\n",
    "\n",
    "print(\"Input:\")\n",
    "number=int(input(\"Please insert the number :\"))\n",
    "numlist= list(range(1,(number+1)))\n",
    "# Import reduce function \n",
    "from functools import reduce\n",
    "sumofelements = reduce((lambda x, y: x + y), numlist)\n",
    "print(\"Output:\")\n",
    "print(\"List of First n Natural numbers are:\",numlist)\n",
    "print(\"Sum of List elements are :\",sumofelements)"
   ]
  },
  {
   "cell_type": "code",
   "execution_count": 3,
   "metadata": {},
   "outputs": [
    {
     "name": "stdout",
     "output_type": "stream",
     "text": [
      "Input:\n",
      "Please insert the number: 20\n",
      "Output:\n",
      "List of numbers: [1, 2, 3, 4, 5, 6, 7, 8, 9, 10, 11, 12, 13, 14, 15, 16, 17, 18, 19, 20]\n",
      "List of Even numbers, which are multiples of 5 are: [10, 20]\n",
      "List of Odd numbers, which are multiples of 5 are: [5, 15]\n"
     ]
    }
   ],
   "source": [
    "#1.2 Write a Python program to implement your own myfilter() function which works exactly like Python's built-in function filter()\n",
    "# This function will Filter the even and odd number from list which are multiples of 5\n",
    "\n",
    "print(\"Input:\")\n",
    "number=int(input(\"Please insert the number: \"))\n",
    "numlist=list(range(1,number+1))\n",
    "def myfilter(numlist):\n",
    "    \n",
    "    evennumlist=[]\n",
    "    oddnumlist=[]\n",
    "    \n",
    "    for i in numlist:\n",
    "        if(i%5==0):\n",
    "            if(i%2==0):\n",
    "                evennumlist.append(i)\n",
    "            else:\n",
    "                oddnumlist.append(i)\n",
    "                \n",
    "    return evennumlist,oddnumlist\n",
    "\n",
    "#Function Execution\n",
    "output_value=myfilter(numlist)\n",
    "\n",
    "print(\"Output:\")\n",
    "print(\"List of numbers:\",numlist)\n",
    "print(\"List of Even numbers, which are multiples of 5 are:\",output_value[0])\n",
    "print(\"List of Odd numbers, which are multiples of 5 are:\",output_value[1])\n"
   ]
  },
  {
   "cell_type": "code",
   "execution_count": 4,
   "metadata": {
    "scrolled": true
   },
   "outputs": [
    {
     "name": "stdout",
     "output_type": "stream",
     "text": [
      "['x', 'xx', 'xxx', 'xxxx', 'y', 'yy', 'yyy', 'yyyy', 'z', 'zz', 'zzz', 'zzzz']\n",
      "['x', 'y', 'z', 'xx', 'yy', 'zz', 'xxx', 'yyy', 'zzz', 'xxxx', 'yyyy', 'zzzz']\n",
      "[[2], [3], [4], [3], [4], [5], [4], [5], [6]]\n",
      "[[2, 3, 4, 5], [3, 4, 5, 6], [4, 5, 6, 7], [5, 6, 7, 8]]\n",
      "[(1, 1), (2, 1), (3, 1), (1, 2), (2, 2), (3, 2), (1, 3), (2, 3), (3, 3)]\n"
     ]
    }
   ],
   "source": [
    "#Question2. Implement List comprehensions to produce the following lists. Write List comprehensions to produce the following Lists ['A', 'C', 'A', 'D', 'G', 'I', ’L’, ‘ D’] ['x', 'xx', 'xxx', 'xxxx', 'y', 'yy', 'yyy', 'yyyy', 'z', 'zz', 'zzz', 'zzzz'] ['x', 'y', 'z', 'xx', 'yy', 'zz', 'xx', 'yy', 'zz', 'xxxx', 'yyyy', 'zzzz'] [[2], [3], [4], [3], [4], [5], [4], [5], [6]] [[2, 3, 4, 5], [3, 4, 5, 6], [4, 5, 6, 7], [5, 6, 7, 8]] [(1, 1), (2, 1), (3, 1), (1, 2), (2, 2), (3, 2), (1, 3), (2, 3), (3, 3)]\n",
    "\n",
    "#Set 1\n",
    "l1=list('xyz')\n",
    "l2=[x*n for x in l1 for n in range(1,5)]\n",
    "print(l2)\n",
    "\n",
    "#Set 2\n",
    "l3=[x*n for n in range(1,5) for x in l1 ]\n",
    "print(l3)\n",
    "\n",
    "#Set  3\n",
    "number=[2,3,4]\n",
    "number1=[[x+n] for x in number for n in range(0,3)]\n",
    "print(number1)\n",
    "\n",
    "#Set 4\n",
    "number2=[2,3,4,5]\n",
    "number3=[[x+n for n in range(0,4)] for x in number2 ]\n",
    "print(number3)\n",
    "\n",
    "#Set 5\n",
    "number4=[1,2,3]\n",
    "number5= [(b,a) for a in number4 for b in number4]\n",
    "print(number5)\n",
    "\n"
   ]
  },
  {
   "cell_type": "code",
   "execution_count": null,
   "metadata": {},
   "outputs": [],
   "source": []
  }
 ],
 "metadata": {
  "kernelspec": {
   "display_name": "Python 3",
   "language": "python",
   "name": "python3"
  },
  "language_info": {
   "codemirror_mode": {
    "name": "ipython",
    "version": 3
   },
   "file_extension": ".py",
   "mimetype": "text/x-python",
   "name": "python",
   "nbconvert_exporter": "python",
   "pygments_lexer": "ipython3",
   "version": "3.8.3"
  }
 },
 "nbformat": 4,
 "nbformat_minor": 4
}
